{
  "nbformat": 4,
  "nbformat_minor": 0,
  "metadata": {
    "colab": {
      "name": "UAS AVD B Kelompok 5.ipynb",
      "provenance": [],
      "collapsed_sections": [
        "eaznyzlNAprt",
        "xIkEMkuyAy7f",
        "umjLXvHbA6EX"
      ]
    },
    "kernelspec": {
      "name": "python3",
      "display_name": "Python 3"
    },
    "language_info": {
      "name": "python"
    }
  },
  "cells": [
    {
      "cell_type": "markdown",
      "metadata": {
        "id": "eaznyzlNAprt"
      },
      "source": [
        "#Menyiapkan data"
      ]
    },
    {
      "cell_type": "code",
      "metadata": {
        "id": "rpvI_ZA7ZZx9"
      },
      "source": [
        "import pandas as pd\n",
        "import numpy as np"
      ],
      "execution_count": 1,
      "outputs": []
    },
    {
      "cell_type": "code",
      "metadata": {
        "colab": {
          "base_uri": "https://localhost:8080/",
          "height": 206
        },
        "id": "Sf-N9DQTlvSe",
        "outputId": "31e1168e-de40-4496-ae5a-c57fc4ea7f6f"
      },
      "source": [
        "data = pd.read_csv(\"data.csv\")\n",
        "data.head()"
      ],
      "execution_count": 2,
      "outputs": [
        {
          "output_type": "execute_result",
          "data": {
            "text/html": [
              "<div>\n",
              "<style scoped>\n",
              "    .dataframe tbody tr th:only-of-type {\n",
              "        vertical-align: middle;\n",
              "    }\n",
              "\n",
              "    .dataframe tbody tr th {\n",
              "        vertical-align: top;\n",
              "    }\n",
              "\n",
              "    .dataframe thead th {\n",
              "        text-align: right;\n",
              "    }\n",
              "</style>\n",
              "<table border=\"1\" class=\"dataframe\">\n",
              "  <thead>\n",
              "    <tr style=\"text-align: right;\">\n",
              "      <th></th>\n",
              "      <th>Usia</th>\n",
              "      <th>Jenis Kelamin</th>\n",
              "      <th>Pendidikan Terakhir</th>\n",
              "      <th>Pekerjaan</th>\n",
              "      <th>Tambah Polis</th>\n",
              "      <th>Loyalitas</th>\n",
              "    </tr>\n",
              "  </thead>\n",
              "  <tbody>\n",
              "    <tr>\n",
              "      <th>0</th>\n",
              "      <td>28</td>\n",
              "      <td>laki-laki</td>\n",
              "      <td>UNIVERITAS</td>\n",
              "      <td>PETANI</td>\n",
              "      <td>tidak</td>\n",
              "      <td>tidak loyal</td>\n",
              "    </tr>\n",
              "    <tr>\n",
              "      <th>1</th>\n",
              "      <td>26</td>\n",
              "      <td>laki-laki</td>\n",
              "      <td>KEJURUSAN</td>\n",
              "      <td>PROFESIONAL</td>\n",
              "      <td>ya</td>\n",
              "      <td>tidak loyal</td>\n",
              "    </tr>\n",
              "    <tr>\n",
              "      <th>2</th>\n",
              "      <td>29</td>\n",
              "      <td>perempuan</td>\n",
              "      <td>UNIVERITAS</td>\n",
              "      <td>WIRASWASTA</td>\n",
              "      <td>ya</td>\n",
              "      <td>loyal</td>\n",
              "    </tr>\n",
              "    <tr>\n",
              "      <th>3</th>\n",
              "      <td>27</td>\n",
              "      <td>laki-laki</td>\n",
              "      <td>UNIVERITAS</td>\n",
              "      <td>PEGAWAI</td>\n",
              "      <td>tidak</td>\n",
              "      <td>tidak loyal</td>\n",
              "    </tr>\n",
              "    <tr>\n",
              "      <th>4</th>\n",
              "      <td>30</td>\n",
              "      <td>perempuan</td>\n",
              "      <td>KEJURUSAN</td>\n",
              "      <td>WIRASWASTA</td>\n",
              "      <td>ya</td>\n",
              "      <td>loyal</td>\n",
              "    </tr>\n",
              "  </tbody>\n",
              "</table>\n",
              "</div>"
            ],
            "text/plain": [
              "   Usia Jenis Kelamin  ... Tambah Polis    Loyalitas\n",
              "0    28     laki-laki  ...        tidak  tidak loyal\n",
              "1    26     laki-laki  ...           ya  tidak loyal\n",
              "2    29     perempuan  ...           ya        loyal\n",
              "3    27     laki-laki  ...        tidak  tidak loyal\n",
              "4    30     perempuan  ...           ya        loyal\n",
              "\n",
              "[5 rows x 6 columns]"
            ]
          },
          "metadata": {},
          "execution_count": 2
        }
      ]
    },
    {
      "cell_type": "code",
      "source": [
        "data.info()"
      ],
      "metadata": {
        "colab": {
          "base_uri": "https://localhost:8080/"
        },
        "id": "wH83H-6nu10U",
        "outputId": "e134b53e-5748-40b5-e8ad-6b18bdc8caee"
      },
      "execution_count": 3,
      "outputs": [
        {
          "output_type": "stream",
          "name": "stdout",
          "text": [
            "<class 'pandas.core.frame.DataFrame'>\n",
            "RangeIndex: 128 entries, 0 to 127\n",
            "Data columns (total 6 columns):\n",
            " #   Column               Non-Null Count  Dtype \n",
            "---  ------               --------------  ----- \n",
            " 0   Usia                 128 non-null    int64 \n",
            " 1   Jenis Kelamin        128 non-null    object\n",
            " 2   Pendidikan Terakhir  128 non-null    object\n",
            " 3   Pekerjaan            128 non-null    object\n",
            " 4   Tambah Polis         128 non-null    object\n",
            " 5   Loyalitas            128 non-null    object\n",
            "dtypes: int64(1), object(5)\n",
            "memory usage: 6.1+ KB\n"
          ]
        }
      ]
    },
    {
      "cell_type": "markdown",
      "metadata": {
        "id": "nZ-jLpifAs2R"
      },
      "source": [
        "#Pre Processing data"
      ]
    },
    {
      "cell_type": "code",
      "metadata": {
        "id": "y50LX6mvi7_a"
      },
      "source": [
        "data.drop_duplicates(inplace=True)"
      ],
      "execution_count": 4,
      "outputs": []
    },
    {
      "cell_type": "code",
      "metadata": {
        "colab": {
          "base_uri": "https://localhost:8080/"
        },
        "id": "klsdD1WFvc5h",
        "outputId": "cac211d6-8bd1-40bf-80d2-119e8dca212f"
      },
      "source": [
        "data.info()"
      ],
      "execution_count": 5,
      "outputs": [
        {
          "output_type": "stream",
          "name": "stdout",
          "text": [
            "<class 'pandas.core.frame.DataFrame'>\n",
            "Int64Index: 97 entries, 0 to 127\n",
            "Data columns (total 6 columns):\n",
            " #   Column               Non-Null Count  Dtype \n",
            "---  ------               --------------  ----- \n",
            " 0   Usia                 97 non-null     int64 \n",
            " 1   Jenis Kelamin        97 non-null     object\n",
            " 2   Pendidikan Terakhir  97 non-null     object\n",
            " 3   Pekerjaan            97 non-null     object\n",
            " 4   Tambah Polis         97 non-null     object\n",
            " 5   Loyalitas            97 non-null     object\n",
            "dtypes: int64(1), object(5)\n",
            "memory usage: 5.3+ KB\n"
          ]
        }
      ]
    },
    {
      "cell_type": "code",
      "source": [
        "data.loc[data[\"Jenis Kelamin\"] == \"laki-laki\", 'Jenis Kelamin'] = 0\n",
        "data.loc[data[\"Jenis Kelamin\"] == \"perempuan\", 'Jenis Kelamin'] = 1\n",
        "\n",
        "data.loc[data[\"Tambah Polis\"] == \"tidak\", 'Tambah Polis'] = 0\n",
        "data.loc[data[\"Tambah Polis\"] == \"ya\", 'Tambah Polis'] = 1\n",
        "\n",
        "data.loc[data[\"Loyalitas\"] == \"tidak loyal\", 'Loyalitas'] = 0\n",
        "data.loc[data[\"Loyalitas\"] == \"loyal\", 'Loyalitas'] = 1"
      ],
      "metadata": {
        "id": "VunqO1ZmoH9x"
      },
      "execution_count": 6,
      "outputs": []
    },
    {
      "cell_type": "code",
      "source": [
        "dummies = pd.get_dummies(data[\"Pendidikan Terakhir\"], prefix='Pendidikan')\n",
        "data = pd.concat([data, dummies], axis=1)\n",
        "data.drop(\"Pendidikan Terakhir\", axis=1, inplace=True)\n",
        "\n",
        "dummies = pd.get_dummies(data[\"Pekerjaan\"], prefix='Pekerjaan')\n",
        "data = pd.concat([data, dummies], axis=1)\n",
        "data.drop(\"Pekerjaan\", axis=1, inplace=True)"
      ],
      "metadata": {
        "id": "H9edkOEIoKdK"
      },
      "execution_count": 7,
      "outputs": []
    },
    {
      "cell_type": "code",
      "source": [
        "data.head()"
      ],
      "metadata": {
        "colab": {
          "base_uri": "https://localhost:8080/",
          "height": 244
        },
        "id": "zEYEWxp3Hi4-",
        "outputId": "a924111e-0c0a-4b2f-b7aa-4d3fda3ea0fd"
      },
      "execution_count": 8,
      "outputs": [
        {
          "output_type": "execute_result",
          "data": {
            "text/html": [
              "<div>\n",
              "<style scoped>\n",
              "    .dataframe tbody tr th:only-of-type {\n",
              "        vertical-align: middle;\n",
              "    }\n",
              "\n",
              "    .dataframe tbody tr th {\n",
              "        vertical-align: top;\n",
              "    }\n",
              "\n",
              "    .dataframe thead th {\n",
              "        text-align: right;\n",
              "    }\n",
              "</style>\n",
              "<table border=\"1\" class=\"dataframe\">\n",
              "  <thead>\n",
              "    <tr style=\"text-align: right;\">\n",
              "      <th></th>\n",
              "      <th>Usia</th>\n",
              "      <th>Jenis Kelamin</th>\n",
              "      <th>Tambah Polis</th>\n",
              "      <th>Loyalitas</th>\n",
              "      <th>Pendidikan_KEJURUSAN</th>\n",
              "      <th>Pendidikan_SMU</th>\n",
              "      <th>Pendidikan_UNIVERITAS</th>\n",
              "      <th>Pekerjaan_PEGAWAI</th>\n",
              "      <th>Pekerjaan_PETANI</th>\n",
              "      <th>Pekerjaan_PROFESIONAL</th>\n",
              "      <th>Pekerjaan_WIRASWASTA</th>\n",
              "    </tr>\n",
              "  </thead>\n",
              "  <tbody>\n",
              "    <tr>\n",
              "      <th>0</th>\n",
              "      <td>28</td>\n",
              "      <td>0</td>\n",
              "      <td>0</td>\n",
              "      <td>0</td>\n",
              "      <td>0</td>\n",
              "      <td>0</td>\n",
              "      <td>1</td>\n",
              "      <td>0</td>\n",
              "      <td>1</td>\n",
              "      <td>0</td>\n",
              "      <td>0</td>\n",
              "    </tr>\n",
              "    <tr>\n",
              "      <th>1</th>\n",
              "      <td>26</td>\n",
              "      <td>0</td>\n",
              "      <td>1</td>\n",
              "      <td>0</td>\n",
              "      <td>1</td>\n",
              "      <td>0</td>\n",
              "      <td>0</td>\n",
              "      <td>0</td>\n",
              "      <td>0</td>\n",
              "      <td>1</td>\n",
              "      <td>0</td>\n",
              "    </tr>\n",
              "    <tr>\n",
              "      <th>2</th>\n",
              "      <td>29</td>\n",
              "      <td>1</td>\n",
              "      <td>1</td>\n",
              "      <td>1</td>\n",
              "      <td>0</td>\n",
              "      <td>0</td>\n",
              "      <td>1</td>\n",
              "      <td>0</td>\n",
              "      <td>0</td>\n",
              "      <td>0</td>\n",
              "      <td>1</td>\n",
              "    </tr>\n",
              "    <tr>\n",
              "      <th>3</th>\n",
              "      <td>27</td>\n",
              "      <td>0</td>\n",
              "      <td>0</td>\n",
              "      <td>0</td>\n",
              "      <td>0</td>\n",
              "      <td>0</td>\n",
              "      <td>1</td>\n",
              "      <td>1</td>\n",
              "      <td>0</td>\n",
              "      <td>0</td>\n",
              "      <td>0</td>\n",
              "    </tr>\n",
              "    <tr>\n",
              "      <th>4</th>\n",
              "      <td>30</td>\n",
              "      <td>1</td>\n",
              "      <td>1</td>\n",
              "      <td>1</td>\n",
              "      <td>1</td>\n",
              "      <td>0</td>\n",
              "      <td>0</td>\n",
              "      <td>0</td>\n",
              "      <td>0</td>\n",
              "      <td>0</td>\n",
              "      <td>1</td>\n",
              "    </tr>\n",
              "  </tbody>\n",
              "</table>\n",
              "</div>"
            ],
            "text/plain": [
              "   Usia Jenis Kelamin  ... Pekerjaan_PROFESIONAL Pekerjaan_WIRASWASTA\n",
              "0    28             0  ...                     0                    0\n",
              "1    26             0  ...                     1                    0\n",
              "2    29             1  ...                     0                    1\n",
              "3    27             0  ...                     0                    0\n",
              "4    30             1  ...                     0                    1\n",
              "\n",
              "[5 rows x 11 columns]"
            ]
          },
          "metadata": {},
          "execution_count": 8
        }
      ]
    },
    {
      "cell_type": "code",
      "metadata": {
        "colab": {
          "base_uri": "https://localhost:8080/",
          "height": 244
        },
        "id": "VPHlQJ2-l0d1",
        "outputId": "35c87c58-7bee-4c0a-cdde-a26d7753d3f3"
      },
      "source": [
        "# Variabel independen\n",
        "x = data.drop(\"Loyalitas\", axis=1)\n",
        "\n",
        "x.head()"
      ],
      "execution_count": 9,
      "outputs": [
        {
          "output_type": "execute_result",
          "data": {
            "text/html": [
              "<div>\n",
              "<style scoped>\n",
              "    .dataframe tbody tr th:only-of-type {\n",
              "        vertical-align: middle;\n",
              "    }\n",
              "\n",
              "    .dataframe tbody tr th {\n",
              "        vertical-align: top;\n",
              "    }\n",
              "\n",
              "    .dataframe thead th {\n",
              "        text-align: right;\n",
              "    }\n",
              "</style>\n",
              "<table border=\"1\" class=\"dataframe\">\n",
              "  <thead>\n",
              "    <tr style=\"text-align: right;\">\n",
              "      <th></th>\n",
              "      <th>Usia</th>\n",
              "      <th>Jenis Kelamin</th>\n",
              "      <th>Tambah Polis</th>\n",
              "      <th>Pendidikan_KEJURUSAN</th>\n",
              "      <th>Pendidikan_SMU</th>\n",
              "      <th>Pendidikan_UNIVERITAS</th>\n",
              "      <th>Pekerjaan_PEGAWAI</th>\n",
              "      <th>Pekerjaan_PETANI</th>\n",
              "      <th>Pekerjaan_PROFESIONAL</th>\n",
              "      <th>Pekerjaan_WIRASWASTA</th>\n",
              "    </tr>\n",
              "  </thead>\n",
              "  <tbody>\n",
              "    <tr>\n",
              "      <th>0</th>\n",
              "      <td>28</td>\n",
              "      <td>0</td>\n",
              "      <td>0</td>\n",
              "      <td>0</td>\n",
              "      <td>0</td>\n",
              "      <td>1</td>\n",
              "      <td>0</td>\n",
              "      <td>1</td>\n",
              "      <td>0</td>\n",
              "      <td>0</td>\n",
              "    </tr>\n",
              "    <tr>\n",
              "      <th>1</th>\n",
              "      <td>26</td>\n",
              "      <td>0</td>\n",
              "      <td>1</td>\n",
              "      <td>1</td>\n",
              "      <td>0</td>\n",
              "      <td>0</td>\n",
              "      <td>0</td>\n",
              "      <td>0</td>\n",
              "      <td>1</td>\n",
              "      <td>0</td>\n",
              "    </tr>\n",
              "    <tr>\n",
              "      <th>2</th>\n",
              "      <td>29</td>\n",
              "      <td>1</td>\n",
              "      <td>1</td>\n",
              "      <td>0</td>\n",
              "      <td>0</td>\n",
              "      <td>1</td>\n",
              "      <td>0</td>\n",
              "      <td>0</td>\n",
              "      <td>0</td>\n",
              "      <td>1</td>\n",
              "    </tr>\n",
              "    <tr>\n",
              "      <th>3</th>\n",
              "      <td>27</td>\n",
              "      <td>0</td>\n",
              "      <td>0</td>\n",
              "      <td>0</td>\n",
              "      <td>0</td>\n",
              "      <td>1</td>\n",
              "      <td>1</td>\n",
              "      <td>0</td>\n",
              "      <td>0</td>\n",
              "      <td>0</td>\n",
              "    </tr>\n",
              "    <tr>\n",
              "      <th>4</th>\n",
              "      <td>30</td>\n",
              "      <td>1</td>\n",
              "      <td>1</td>\n",
              "      <td>1</td>\n",
              "      <td>0</td>\n",
              "      <td>0</td>\n",
              "      <td>0</td>\n",
              "      <td>0</td>\n",
              "      <td>0</td>\n",
              "      <td>1</td>\n",
              "    </tr>\n",
              "  </tbody>\n",
              "</table>\n",
              "</div>"
            ],
            "text/plain": [
              "   Usia Jenis Kelamin  ... Pekerjaan_PROFESIONAL  Pekerjaan_WIRASWASTA\n",
              "0    28             0  ...                     0                     0\n",
              "1    26             0  ...                     1                     0\n",
              "2    29             1  ...                     0                     1\n",
              "3    27             0  ...                     0                     0\n",
              "4    30             1  ...                     0                     1\n",
              "\n",
              "[5 rows x 10 columns]"
            ]
          },
          "metadata": {},
          "execution_count": 9
        }
      ]
    },
    {
      "cell_type": "code",
      "metadata": {
        "colab": {
          "base_uri": "https://localhost:8080/"
        },
        "id": "kUwMkV76dIKV",
        "outputId": "f1dcc3a5-50a4-4f30-ee09-458363fb3a5b"
      },
      "source": [
        "# Variabel dependen\n",
        "y = data[\"Loyalitas\"]\n",
        "y=y.astype('int')\n",
        "y.head()"
      ],
      "execution_count": 10,
      "outputs": [
        {
          "output_type": "execute_result",
          "data": {
            "text/plain": [
              "0    0\n",
              "1    0\n",
              "2    1\n",
              "3    0\n",
              "4    1\n",
              "Name: Loyalitas, dtype: int64"
            ]
          },
          "metadata": {},
          "execution_count": 10
        }
      ]
    },
    {
      "cell_type": "markdown",
      "source": [
        "# Train size 80%, Test size 20%"
      ],
      "metadata": {
        "id": "qzPHJh3nw7DP"
      }
    },
    {
      "cell_type": "code",
      "metadata": {
        "id": "mfTI52Xrl2QE",
        "colab": {
          "base_uri": "https://localhost:8080/"
        },
        "outputId": "7b0ca3a0-0b98-457b-b66f-3b131f674429"
      },
      "source": [
        "from sklearn.model_selection import train_test_split\n",
        "from sklearn.tree import DecisionTreeClassifier\n",
        "from sklearn import metrics\n",
        "\n",
        "x_train, x_test, y_train, y_test = train_test_split(x, y, test_size = 0.2, random_state = 123)\n",
        "\n",
        "akurasi = []\n",
        "\n",
        "for i in range(3, 6):\n",
        "  clf = DecisionTreeClassifier(max_depth = i, random_state=2)\n",
        "  clf = clf.fit(x_train,y_train)\n",
        "  y_pred = clf.predict(x_test)\n",
        "  akurasi.append(metrics.accuracy_score(y_test, y_pred))\n",
        "  print()\n",
        "\n",
        "akurasi"
      ],
      "execution_count": 11,
      "outputs": [
        {
          "output_type": "stream",
          "name": "stdout",
          "text": [
            "\n",
            "\n",
            "\n"
          ]
        },
        {
          "output_type": "execute_result",
          "data": {
            "text/plain": [
              "[0.75, 0.55, 0.45]"
            ]
          },
          "metadata": {},
          "execution_count": 11
        }
      ]
    },
    {
      "cell_type": "markdown",
      "source": [
        "# Train size 70%, Test size 30%"
      ],
      "metadata": {
        "id": "I1NNA9yDxGd2"
      }
    },
    {
      "cell_type": "code",
      "source": [
        "from sklearn.model_selection import train_test_split\n",
        "from sklearn.tree import DecisionTreeClassifier\n",
        "from sklearn import metrics\n",
        "\n",
        "x_train, x_test, y_train, y_test = train_test_split(x, y, test_size = 0.3, random_state = 123)\n",
        "\n",
        "akurasi = []\n",
        "\n",
        "for i in range(3, 6):\n",
        "  clf = DecisionTreeClassifier(max_depth = i, random_state=2)\n",
        "  clf = clf.fit(x_train,y_train)\n",
        "  y_pred = clf.predict(x_test)\n",
        "  akurasi.append(metrics.accuracy_score(y_test, y_pred))\n",
        "\n",
        "akurasi"
      ],
      "metadata": {
        "colab": {
          "base_uri": "https://localhost:8080/"
        },
        "id": "JEZbsXoCthiI",
        "outputId": "18784497-6f79-4ba0-b28f-24c5daf2f834"
      },
      "execution_count": 12,
      "outputs": [
        {
          "output_type": "execute_result",
          "data": {
            "text/plain": [
              "[0.7333333333333333, 0.7, 0.5333333333333333]"
            ]
          },
          "metadata": {},
          "execution_count": 12
        }
      ]
    },
    {
      "cell_type": "markdown",
      "source": [
        "# Train size 40%, Test size 60%"
      ],
      "metadata": {
        "id": "0eEmqvytxJEn"
      }
    },
    {
      "cell_type": "code",
      "source": [
        "from sklearn.model_selection import train_test_split\n",
        "from sklearn.tree import DecisionTreeClassifier\n",
        "from sklearn import metrics\n",
        "\n",
        "x_train, x_test, y_train, y_test = train_test_split(x, y, test_size = 0.4, random_state = 123)\n",
        "\n",
        "akurasi = []\n",
        "\n",
        "for i in range(3, 6):\n",
        "  clf = DecisionTreeClassifier(max_depth = i, random_state=2)\n",
        "  clf = clf.fit(x_train,y_train)\n",
        "  y_pred = clf.predict(x_test)\n",
        "  akurasi.append(metrics.accuracy_score(y_test, y_pred))\n",
        "\n",
        "akurasi"
      ],
      "metadata": {
        "colab": {
          "base_uri": "https://localhost:8080/"
        },
        "id": "BP2r38mLtmBY",
        "outputId": "ad6d9490-c67f-4a3b-a04c-211a600ef836"
      },
      "execution_count": 13,
      "outputs": [
        {
          "output_type": "execute_result",
          "data": {
            "text/plain": [
              "[0.6666666666666666, 0.6410256410256411, 0.5897435897435898]"
            ]
          },
          "metadata": {},
          "execution_count": 13
        }
      ]
    },
    {
      "cell_type": "markdown",
      "source": [
        "#Confusion Matrix"
      ],
      "metadata": {
        "id": "OSOqkBLfxQCP"
      }
    },
    {
      "cell_type": "code",
      "source": [
        "from sklearn.metrics import confusion_matrix\n",
        "\n",
        "from sklearn.model_selection import train_test_split\n",
        "from sklearn.tree import DecisionTreeClassifier\n",
        "from sklearn import metrics\n",
        "import seaborn as sns\n",
        "import matplotlib.pyplot as plt\n",
        "\n",
        "x_train, x_test, y_train, y_test = train_test_split(x, y, test_size = 0.2, random_state = 123)\n",
        "\n",
        "clf = DecisionTreeClassifier(max_depth = 3, random_state=2)\n",
        "clf = clf.fit(x_train,y_train)\n",
        "y_pred = clf.predict(x_test)\n",
        "\n",
        "# Membuat funsi untuk menampilkan confusion matrix dengan seaborn dan matplotlib\n",
        "def display_conf(y_test,prediction):\n",
        "    sns.heatmap(confusion_matrix(y_test,prediction),annot=True,linewidths=3,cbar=False)\n",
        "    plt.title('Confusion Matrix')\n",
        "    plt.ylabel('Actual')\n",
        "    plt.xlabel('Prediction')\n",
        "    plt.show()\n",
        "\n",
        "# Memanggil fungsi untuk menampilkan visualisasi confusion matrix\n",
        "display_conf(y_test, y_pred)"
      ],
      "metadata": {
        "colab": {
          "base_uri": "https://localhost:8080/",
          "height": 295
        },
        "id": "b_KLsNEiBrYZ",
        "outputId": "682d3c25-9e65-4b24-b5b5-ff11a582e2bc"
      },
      "execution_count": 14,
      "outputs": [
        {
          "output_type": "display_data",
          "data": {
            "image/png": "[encoded data removed]",
            "text/plain": [
              "<Figure size 432x288 with 1 Axes>"
            ]
          },
          "metadata": {
            "needs_background": "light"
          }
        }
      ]
    },
    {
      "cell_type": "markdown",
      "source": [
        "#Pohon keputusan"
      ],
      "metadata": {
        "id": "8QMUUqu3xT_m"
      }
    },
    {
      "cell_type": "code",
      "metadata": {
        "colab": {
          "base_uri": "https://localhost:8080/"
        },
        "id": "j5fvu0MJB_52",
        "outputId": "1ce60f62-e22f-4e2b-8f0c-bb862ae59229"
      },
      "source": [
        "#import relevant functions\n",
        "from sklearn.tree import export_text\n",
        "#export the decision rules\n",
        "feature_names = list(data.columns)\n",
        "feature_names.remove('Loyalitas')\n",
        "tree_rules = export_text(clf, feature_names = feature_names)\n",
        "#print the result\n",
        "print(tree_rules)"
      ],
      "execution_count": 15,
      "outputs": [
        {
          "output_type": "stream",
          "name": "stdout",
          "text": [
            "|--- Pendidikan_UNIVERITAS <= 0.50\n",
            "|   |--- Usia <= 27.50\n",
            "|   |   |--- class: 0\n",
            "|   |--- Usia >  27.50\n",
            "|   |   |--- Tambah Polis <= 0.50\n",
            "|   |   |   |--- class: 0\n",
            "|   |   |--- Tambah Polis >  0.50\n",
            "|   |   |   |--- class: 1\n",
            "|--- Pendidikan_UNIVERITAS >  0.50\n",
            "|   |--- Pekerjaan_WIRASWASTA <= 0.50\n",
            "|   |   |--- Tambah Polis <= 0.50\n",
            "|   |   |   |--- class: 1\n",
            "|   |   |--- Tambah Polis >  0.50\n",
            "|   |   |   |--- class: 1\n",
            "|   |--- Pekerjaan_WIRASWASTA >  0.50\n",
            "|   |   |--- class: 1\n",
            "\n"
          ]
        }
      ]
    }
  ]
}